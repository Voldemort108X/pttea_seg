{
 "cells": [
  {
   "cell_type": "code",
   "execution_count": 1,
   "id": "ce000676",
   "metadata": {},
   "outputs": [],
   "source": [
    "import os\n",
    "import matplotlib.pyplot as plt\n",
    "import torch\n",
    "import torch.nn as nn\n",
    "from tqdm import tqdm\n",
    "from torch.utils.data import DataLoader\n",
    "from scipy.io import loadmat\n",
    "import numpy as np\n",
    "\n",
    "from models.segmentation import Unet3DSeg\n",
    "from models.energy import ShapeEnergyModel\n",
    "from dataset import MRI_2D_Dataset_Classifier, im_normalize\n",
    "\n",
    "device = 'cuda' if torch.cuda.is_available() else 'cpu'"
   ]
  },
  {
   "cell_type": "code",
   "execution_count": 2,
   "id": "29e8bab5",
   "metadata": {},
   "outputs": [
    {
     "data": {
      "text/plain": [
       "ShapeEnergyModel(\n",
       "  (features): Sequential(\n",
       "    (0): Conv2d(3, 64, kernel_size=(5, 5), stride=(2, 2), padding=(2, 2))\n",
       "    (1): LeakyReLU(negative_slope=0.2, inplace=True)\n",
       "    (2): Conv2d(64, 128, kernel_size=(5, 5), stride=(2, 2), padding=(2, 2))\n",
       "    (3): BatchNorm2d(128, eps=1e-05, momentum=0.1, affine=True, track_running_stats=True)\n",
       "    (4): LeakyReLU(negative_slope=0.2, inplace=True)\n",
       "    (5): Conv2d(128, 256, kernel_size=(5, 5), stride=(2, 2), padding=(2, 2))\n",
       "    (6): BatchNorm2d(256, eps=1e-05, momentum=0.1, affine=True, track_running_stats=True)\n",
       "    (7): LeakyReLU(negative_slope=0.2, inplace=True)\n",
       "    (8): Conv2d(256, 512, kernel_size=(5, 5), stride=(2, 2), padding=(2, 2))\n",
       "    (9): BatchNorm2d(512, eps=1e-05, momentum=0.1, affine=True, track_running_stats=True)\n",
       "    (10): LeakyReLU(negative_slope=0.2, inplace=True)\n",
       "  )\n",
       "  (classifier_head): Conv2d(512, 1, kernel_size=(3, 3), stride=(1, 1), padding=(1, 1))\n",
       ")"
      ]
     },
     "execution_count": 2,
     "metadata": {},
     "output_type": "execute_result"
    }
   ],
   "source": [
    "model_energy = ShapeEnergyModel.load('./checkpoints/unet_acdc_energy.pt', device)\n",
    "model_energy.to(device)\n",
    "model_energy.eval()"
   ]
  },
  {
   "cell_type": "code",
   "execution_count": 3,
   "id": "c9643502",
   "metadata": {},
   "outputs": [
    {
     "data": {
      "text/plain": [
       "Unet3DSeg(\n",
       "  (unet_model): Unet(\n",
       "    (encoder): ModuleList(\n",
       "      (0): ModuleList(\n",
       "        (0): ConvBlock(\n",
       "          (main): Conv2d(1, 16, kernel_size=(3, 3), stride=(1, 1), padding=(1, 1))\n",
       "          (activation): LeakyReLU(negative_slope=0.2)\n",
       "          (norm): BatchNorm2d(16, eps=1e-05, momentum=0.1, affine=True, track_running_stats=True)\n",
       "        )\n",
       "      )\n",
       "      (1): ModuleList(\n",
       "        (0): ConvBlock(\n",
       "          (main): Conv2d(16, 32, kernel_size=(3, 3), stride=(1, 1), padding=(1, 1))\n",
       "          (activation): LeakyReLU(negative_slope=0.2)\n",
       "          (norm): BatchNorm2d(32, eps=1e-05, momentum=0.1, affine=True, track_running_stats=True)\n",
       "        )\n",
       "      )\n",
       "      (2): ModuleList(\n",
       "        (0): ConvBlock(\n",
       "          (main): Conv2d(32, 32, kernel_size=(3, 3), stride=(1, 1), padding=(1, 1))\n",
       "          (activation): LeakyReLU(negative_slope=0.2)\n",
       "          (norm): BatchNorm2d(32, eps=1e-05, momentum=0.1, affine=True, track_running_stats=True)\n",
       "        )\n",
       "      )\n",
       "      (3): ModuleList(\n",
       "        (0): ConvBlock(\n",
       "          (main): Conv2d(32, 32, kernel_size=(3, 3), stride=(1, 1), padding=(1, 1))\n",
       "          (activation): LeakyReLU(negative_slope=0.2)\n",
       "          (norm): BatchNorm2d(32, eps=1e-05, momentum=0.1, affine=True, track_running_stats=True)\n",
       "        )\n",
       "      )\n",
       "    )\n",
       "    (decoder): ModuleList(\n",
       "      (0): ModuleList(\n",
       "        (0): ConvBlock(\n",
       "          (main): Conv2d(32, 32, kernel_size=(3, 3), stride=(1, 1), padding=(1, 1))\n",
       "          (activation): LeakyReLU(negative_slope=0.2)\n",
       "          (norm): BatchNorm2d(32, eps=1e-05, momentum=0.1, affine=True, track_running_stats=True)\n",
       "        )\n",
       "      )\n",
       "      (1): ModuleList(\n",
       "        (0): ConvBlock(\n",
       "          (main): Conv2d(64, 32, kernel_size=(3, 3), stride=(1, 1), padding=(1, 1))\n",
       "          (activation): LeakyReLU(negative_slope=0.2)\n",
       "          (norm): BatchNorm2d(32, eps=1e-05, momentum=0.1, affine=True, track_running_stats=True)\n",
       "        )\n",
       "      )\n",
       "      (2): ModuleList(\n",
       "        (0): ConvBlock(\n",
       "          (main): Conv2d(64, 32, kernel_size=(3, 3), stride=(1, 1), padding=(1, 1))\n",
       "          (activation): LeakyReLU(negative_slope=0.2)\n",
       "          (norm): BatchNorm2d(32, eps=1e-05, momentum=0.1, affine=True, track_running_stats=True)\n",
       "        )\n",
       "      )\n",
       "      (3): ModuleList(\n",
       "        (0): ConvBlock(\n",
       "          (main): Conv2d(64, 32, kernel_size=(3, 3), stride=(1, 1), padding=(1, 1))\n",
       "          (activation): LeakyReLU(negative_slope=0.2)\n",
       "          (norm): BatchNorm2d(32, eps=1e-05, momentum=0.1, affine=True, track_running_stats=True)\n",
       "        )\n",
       "      )\n",
       "    )\n",
       "    (remaining): ModuleList(\n",
       "      (0): ConvBlock(\n",
       "        (main): Conv2d(48, 32, kernel_size=(3, 3), stride=(1, 1), padding=(1, 1))\n",
       "        (activation): LeakyReLU(negative_slope=0.2)\n",
       "        (norm): BatchNorm2d(32, eps=1e-05, momentum=0.1, affine=True, track_running_stats=True)\n",
       "      )\n",
       "      (1): ConvBlock(\n",
       "        (main): Conv2d(32, 16, kernel_size=(3, 3), stride=(1, 1), padding=(1, 1))\n",
       "        (activation): LeakyReLU(negative_slope=0.2)\n",
       "        (norm): BatchNorm2d(16, eps=1e-05, momentum=0.1, affine=True, track_running_stats=True)\n",
       "      )\n",
       "      (2): ConvBlock(\n",
       "        (main): Conv2d(16, 16, kernel_size=(3, 3), stride=(1, 1), padding=(1, 1))\n",
       "        (activation): LeakyReLU(negative_slope=0.2)\n",
       "        (norm): BatchNorm2d(16, eps=1e-05, momentum=0.1, affine=True, track_running_stats=True)\n",
       "      )\n",
       "    )\n",
       "  )\n",
       "  (final): Conv2d(16, 3, kernel_size=(3, 3), stride=(1, 1), padding=(1, 1))\n",
       ")"
      ]
     },
     "execution_count": 3,
     "metadata": {},
     "output_type": "execute_result"
    }
   ],
   "source": [
    "model_seg = Unet3DSeg(numclasses=3, inshape=(256,256)).load('./checkpoints/unet_acdc_seg.pt', device)\n",
    "model_seg.to(device)\n",
    "model_seg.eval()"
   ]
  },
  {
   "cell_type": "code",
   "execution_count": 4,
   "id": "02d928ba",
   "metadata": {},
   "outputs": [],
   "source": [
    "def configure_model(model):\n",
    "    \"\"\"Configure model for use with tent.\"\"\"\n",
    "    # train mode, because tent optimizes the model to minimize entropy\n",
    "    model.train()\n",
    "    # disable grad, to (re-)enable only what tent updates\n",
    "    model.requires_grad_(False)\n",
    "    # configure norm for tent updates: enable grad + force batch statisics\n",
    "    for m in model.modules():\n",
    "        if isinstance(m, nn.BatchNorm2d):\n",
    "            m.requires_grad_(True)\n",
    "            # force use of batch stats in train and eval modes\n",
    "            m.track_running_stats = False\n",
    "            m.running_mean = None\n",
    "            m.running_var = None\n",
    "    return model\n",
    "\n",
    "\n",
    "model_seg = configure_model(model_seg)"
   ]
  },
  {
   "cell_type": "code",
   "execution_count": 5,
   "id": "5dec6bc8",
   "metadata": {},
   "outputs": [
    {
     "name": "stderr",
     "output_type": "stream",
     "text": [
      "  0%|          | 0/1 [00:00<?, ?it/s]"
     ]
    },
    {
     "name": "stderr",
     "output_type": "stream",
     "text": [
      "100%|██████████| 1/1 [00:01<00:00,  1.21s/it]\n"
     ]
    }
   ],
   "source": [
    "test_set = MRI_2D_Dataset_Classifier('./example_data')\n",
    "batch_size = 24\n",
    "test_set = DataLoader(test_set, batch_size=batch_size, shuffle=False)\n",
    "\n",
    "for inputs_test, masks_test, labels_test in tqdm(test_set):\n",
    "    # print('inputs shape', inputs_test.shape)\n",
    "    inputs_test = inputs_test.to(device)\n",
    "    masks_test = masks_test.to(device)\n",
    "    labels_test = labels_test.to(device) # labels_test shape B x 1 (binary label)\n",
    "    # convert tensor type to float\n",
    "    inputs_test = inputs_test.float()\n",
    "    masks_test = masks_test.float()\n",
    "    labels_test = labels_test.float()"
   ]
  },
  {
   "cell_type": "code",
   "execution_count": 6,
   "id": "cb381db7",
   "metadata": {},
   "outputs": [
    {
     "data": {
      "image/png": "[encoded data removed]",
      "text/plain": [
       "<Figure size 720x360 with 2 Axes>"
      ]
     },
     "metadata": {
      "needs_background": "light"
     },
     "output_type": "display_data"
    }
   ],
   "source": [
    "y_preds = model_seg(inputs_test)\n",
    "\n",
    "softmax_fn = nn.Softmax(dim=1)\n",
    "\n",
    "y_preds_prob = softmax_fn(y_preds).float()\n",
    "y_preds_prob_org = y_preds_prob.detach().clone() # keep a copy of the original prediction\n",
    "\n",
    "sample_idx = 12\n",
    "\n",
    "\n",
    "fig, axes = plt.subplots(1, 2, figsize=(10, 5))\n",
    "im1 = axes[0].imshow(y_preds_prob[sample_idx].argmax(dim=0).detach().cpu().numpy(), cmap='gray')\n",
    "im2 = axes[1].imshow(masks_test[sample_idx].permute(1, 2, 0).detach().cpu().numpy(), cmap='gray')\n",
    "plt.show()"
   ]
  },
  {
   "cell_type": "code",
   "execution_count": 7,
   "id": "2fcd31a6",
   "metadata": {},
   "outputs": [
    {
     "name": "stdout",
     "output_type": "stream",
     "text": [
      "Iteration 0, Loss: -6.542713165283203\n",
      "Iteration 1, Loss: -7.059146881103516\n",
      "Iteration 2, Loss: -7.3044352531433105\n",
      "Iteration 3, Loss: -7.549223899841309\n",
      "Iteration 4, Loss: -7.725624084472656\n",
      "Iteration 5, Loss: -7.893962860107422\n",
      "Iteration 6, Loss: -8.040725708007812\n",
      "Iteration 7, Loss: -8.25761890411377\n",
      "Iteration 8, Loss: -8.523124694824219\n",
      "Iteration 9, Loss: -8.844095230102539\n"
     ]
    }
   ],
   "source": [
    "import torch\n",
    "import torch.nn as nn\n",
    "import matplotlib.pyplot as plt\n",
    "# Target label for inversion (e.g., class 0)\n",
    "n_blocks = 16\n",
    "\n",
    "target_label = torch.zeros((batch_size, 1, n_blocks, n_blocks))\n",
    "optimizer = torch.optim.Adam([p for p in model_seg.parameters() if p.requires_grad], lr=1e-2)\n",
    "\n",
    "criterion_viz = nn.BCEWithLogitsLoss(reduction='none')\n",
    "target  = target_label.view(batch_size, 1, n_blocks, n_blocks).float()\n",
    "target = target.to(device)\n",
    "\n",
    "sigmoid_fn = nn.Sigmoid()\n",
    "\n",
    "output_list = []\n",
    "output_score_list = []\n",
    "\n",
    "# Model inversion loop\n",
    "for iteration in range(10):  # Number of iterations for optimization\n",
    "    optimizer.zero_grad()\n",
    "\n",
    "    y_preds = model_seg(inputs_test)\n",
    "\n",
    "    softmax_fn = nn.Softmax(dim=1)\n",
    "    y_preds_prob = softmax_fn(y_preds)\n",
    "\n",
    "    y_preds_prob = y_preds_prob.float()\n",
    "\n",
    "    # Forward pass: Get the model's predictions for the generated image\n",
    "    output = model_energy(y_preds_prob)\n",
    "\n",
    "    loss_region =  - criterion_viz(output, target)\n",
    "    loss = torch.mean(loss_region) \n",
    "\n",
    "    # Backward pass: Compute gradients of the input image\n",
    "    loss.backward()\n",
    "\n",
    "    # Update the input image\n",
    "    optimizer.step()\n",
    "\n",
    "    output_list.append(y_preds_prob[sample_idx].detach().cpu().numpy())\n",
    "    output_score_list.append(output[sample_idx].detach().cpu().numpy())\n",
    "\n",
    "\n",
    "    print(f\"Iteration {iteration}, Loss: {loss.item()}\")\n",
    "       "
   ]
  },
  {
   "cell_type": "code",
   "execution_count": 8,
   "id": "31b61598",
   "metadata": {},
   "outputs": [
    {
     "data": {
      "image/png": "[encoded data removed]",
      "text/plain": [
       "<Figure size 1440x504 with 12 Axes>"
      ]
     },
     "metadata": {},
     "output_type": "display_data"
    }
   ],
   "source": [
    "def sigmoid(z):\n",
    "    return 1/(1 + np.exp(-z))\n",
    "\n",
    "\n",
    "fig, axes = plt.subplots(2, 6, figsize=(20, 7))\n",
    "\n",
    "\n",
    "axes[0, 0].imshow(output_list[0].argmax(0).squeeze(), cmap='gray')\n",
    "axes[0 ,0].set_xticks([])\n",
    "axes[0, 0].set_yticks([])\n",
    "axes[0, 0].set_ylabel('Adapted Prediction')\n",
    "axes[0, 0].set_title('Iteration 0')\n",
    "\n",
    "axes[1, 0].imshow(1-sigmoid(output_score_list[0].squeeze()), cmap='plasma', vmax=1, vmin=0)\n",
    "axes[1 ,0].set_xticks([])\n",
    "axes[1, 0].set_yticks([])\n",
    "axes[1, 0].set_ylabel('Estimated Energy')\n",
    "\n",
    "for i in range(5):\n",
    "    index = 2 * i + 1\n",
    "\n",
    "    axes[0, i+1].imshow(output_list[index].argmax(0).squeeze(), cmap='gray')\n",
    "    axes[0 ,i+1].set_xticks([])\n",
    "    axes[0, i+1].set_yticks([])\n",
    "    axes[0, i+1].set_title(f'Iteration {index + 1}')\n",
    "\n",
    "    axes[1, i+1].imshow(1-sigmoid(output_score_list[index].squeeze()), cmap='plasma', vmax=1, vmin=0)\n",
    "    axes[1 ,i+1].set_xticks([])\n",
    "    axes[1, i+1].set_yticks([])\n",
    "\n",
    "plt.tight_layout()\n",
    "plt.show()"
   ]
  },
  {
   "cell_type": "code",
   "execution_count": null,
   "id": "a3a102b2",
   "metadata": {},
   "outputs": [],
   "source": []
  }
 ],
 "metadata": {
  "kernelspec": {
   "display_name": "pttea_env",
   "language": "python",
   "name": "python3"
  },
  "language_info": {
   "codemirror_mode": {
    "name": "ipython",
    "version": 3
   },
   "file_extension": ".py",
   "mimetype": "text/x-python",
   "name": "python",
   "nbconvert_exporter": "python",
   "pygments_lexer": "ipython3",
   "version": "3.6.13"
  }
 },
 "nbformat": 4,
 "nbformat_minor": 5
}
